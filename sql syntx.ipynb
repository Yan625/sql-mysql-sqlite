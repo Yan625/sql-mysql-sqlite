{
 "cells": [
  {
   "cell_type": "markdown",
   "metadata": {},
   "source": [
    "# SQL Syntax "
   ]
  },
  {
   "cell_type": "markdown",
   "metadata": {},
   "source": [
    "## Basic \n",
    "\n",
    "**0.clear page:**\n",
    "\n",
    "        system clear;\n",
    "\n",
    "**1.connect to mysql**\n",
    "\n",
    "        /usr/local/mysql/bin/mysql -u root -p\n",
    "\n",
    "**2.see all the databases:**\n",
    "\n",
    "        show databases;\n",
    "        \n",
    "        ##########################################################\n",
    "        show databases;-->show all the databases\n",
    "        use databases;-->use single database\n",
    "        show tables;-->show all the tables in that single database\n",
    "        disc tablename;-->show the column name of specific table\n",
    "        ##########################################################\n",
    "        \n",
    "**3.use database:**\n",
    "\n",
    "        use DatabaseName;\n",
    "        \n",
    "**4.see all the tables under specific database:**\n",
    "\n",
    "        show tables;\n",
    "        \n",
    "**5.create table:**\n",
    " \n",
    "        create table TableName( columnname1 int primary key, columnname2 varchar(100) not null, columnname3 int);\n",
    "\n",
    "**6.insert values:**\n",
    "\n",
    "       insert into TableName values(25, 'Aman', 'Bengaluru', 32569);\n",
    "       or\n",
    "       insert into TableName(columnname1,columnname3) values( value1,value3);\n",
    "\n",
    "**7.see content:**\n",
    "\n",
    "       describe TableName;#--->see table content\n",
    "       describe ColumnName;#--->see column content\n",
    "       \n",
    "\n",
    "**8.select all the columns from a table:**\n",
    "\n",
    "       select* from TableName;\n",
    "       \n",
    "**9.update table:**\n",
    "       \n",
    "       9.1 add:\n",
    "       alter table TableName add(Address varchar(100));\n",
    "       alter table TableName add(Email_ID varchar(100), Contact_no varchar(100));\n",
    "       alter table TableName add(test int default 100);\n",
    "       \n",
    "       9.2 modify:\n",
    "           9.2.1 change data type\n",
    "              alter table TableName modify Contact_no int;\n",
    "           9.2.2 rename a column\n",
    "              alter table TableName change Address Location varchar(100); #change column name address to location\n",
    "           9.2.3 delete column\n",
    "              alter table TableName drop column Test;\n",
    "              alter table TableName drop column Email_ID,drop column Contact_no;\n",
    "       \n",
    "       \n",
    "       "
   ]
  },
  {
   "cell_type": "markdown",
   "metadata": {},
   "source": [
    "**10.retrive data**\n",
    "\n",
    "    10.1 select all:\n",
    "       select * from TableName;\n",
    "    10.2 select one column:\n",
    "       select columnname from TableName;\n",
    "    10.3 select multiple column:\n",
    "       select columnname1,columnname2 from TableName; #table followt your selection order\n",
    "       \n",
    "    10.4 retrive data from outer source:\n",
    "       source'file_name.sql'\n",
    "       like:source Desktop/mysqlsampledatabase.sql;\n",
    "    \n",
    "**11.restrict result set:**\n",
    "\n",
    "    11.1 limit\n",
    "          selec ColumnName from TableName limit 20;    \n",
    "    11.2 distinct\n",
    "          selec distinct ColumnName from TableName      "
   ]
  },
  {
   "cell_type": "markdown",
   "metadata": {},
   "source": [
    "**12.filter result:**\n",
    "  \n",
    "    select* from orders where atatus = 'In Process';\n",
    "    select* from orders where ordernumber > 100 and ordernumber < 120;\n",
    "    select* from orders where comments is not Null;\n",
    "    select* from orders where comments is Null limit 10;"
   ]
  },
  {
   "cell_type": "markdown",
   "metadata": {},
   "source": [
    "**13.aggregate functions:perform a calculation on a set of values and return a single value**\n",
    "\n",
    "    different functions:\n",
    "               count:count(*)\n",
    "                     count(column_name)\n",
    "                     count(distinc column_name)\n",
    "               avg\n",
    "               max\n",
    "               min\n",
    "               sum\n",
    "    \n",
    "    13.1 count\n",
    "         select count(*) from student;#-->return the number of records(4)\n",
    "         select count(age) from student;#-->return not null records(2)\n",
    "         select count(distinc age) from student;#-->return not null and distinct records(1)\n",
    "         select count(*) from student where age is not null;\n",
    "         \n",
    "    13.2 avg\n",
    "         select avg(columnname) from tablename where amount>2000;\n",
    "         \n",
    "    13.3 min & max & sum\n",
    "         select min(columnname) from tablename;\n",
    "         select max(columnname) from tablename;\n",
    "         select sum(columnname) from tablename;        "
   ]
  },
  {
   "cell_type": "markdown",
   "metadata": {},
   "source": [
    "**14.Update and delete**\n",
    "\n",
    "    14.1 update:\n",
    "         update faculty set salary=5000;#update all the salary 5000\n",
    "         update faculty set salary=5000 where Faculty_id=101;\n",
    "    14.2 delete:\n",
    "         delete from faculty;#-->delete all the content\n",
    "         delete from faculty where salary=1000;\n",
    "    14.3 truncate:delete all the table content\n",
    "         truncate faculty;\n",
    "    14.4 drop:delete table completely\n",
    "         drop table falculty;\n",
    "         drop databases school;         "
   ]
  },
  {
   "cell_type": "markdown",
   "metadata": {},
   "source": [
    "## Advance"
   ]
  },
  {
   "cell_type": "markdown",
   "metadata": {},
   "source": [
    "**1. group by**\n",
    " \n",
    "     select country, count(*) from customers group by country; \n",
    "     select country, state,count(*) from customers group by country,state; "
   ]
  },
  {
   "cell_type": "markdown",
   "metadata": {},
   "source": [
    "**2. having**\n",
    "\n",
    "    group by can not be used with where+functions like where age>50, but having can do this;\n",
    "    wrong: select state,count(*) from customers where count(*)>5 group by state;\n",
    "    right: select state,count(*) from customers group by state having count(*)>5 desc;"
   ]
  },
  {
   "cell_type": "markdown",
   "metadata": {},
   "source": [
    "**3.IN / NOT IN**\n",
    "\n",
    "    the IN operator is a shorthand for multiple OR conditions\n",
    "    the IN operator allows you to determine if a specified value matches anyvalue from a list or from a subquery\n",
    "    syntax:select column1...from tablename where (expr/columns) in (\"value1\",\"value2\"..)must seperate with','\n",
    "           select column1...from tablename where (expr/columns) not in (\"value1\",\"value2\"..)must seperate with','"
   ]
  },
  {
   "cell_type": "markdown",
   "metadata": {},
   "source": [
    "**4.order by**\n",
    "\n",
    "    select productname,productline from products where producline in ('motocycle','classic cars') and quantityin stock>500 order by quantityin stock;"
   ]
  },
  {
   "cell_type": "markdown",
   "metadata": {},
   "source": [
    "**5.between**\n",
    "\n",
    "    5.1 can use between clause to replace a combination of\"greater than equal\" and \"lessthan equal\"conditions\n",
    "    5.2 syntax: select columnname from tablename where columnname between value1 and value2;\n",
    "    5.3 it will return the records with in the range of value1 and value2(inclusive)\n",
    "    5.4 values can be numbers, text and dates\n",
    "    \n",
    "    select productname, productline from products where quantityinstock between 500 and 700;\n",
    "    select productname, productline from products where quantityinstock not between 500 and 700;"
   ]
  },
  {
   "cell_type": "markdown",
   "metadata": {},
   "source": [
    "**6.like**\n",
    "\n",
    "     6.1 like operator is used in a where clause to search for a specific pattern in a column\n",
    "     6.2 there are two wildcards used in conjunction with the like operator:\n",
    "         6.2.2 %:the percent sign represents zero, one, or multiple characters\n",
    "         6.2.3 _: the underscore represent a single character\n",
    "     6.3 syntax: select column..from tablename where column like pattern\n",
    "     6.4 pattern:\n",
    "         like's%':any value starts with\"s\"\n",
    "         like'%s%':any value which have \"s\" in any position\n",
    "         like'_ss%':any value which the second and third postion is \"s\"\n",
    "         like's_%_%:any value starts with s and have at least 3 characters in length\n",
    "         like'%s':any value ends with 's'\n",
    "         like\"_s%p\":'s'in the second position and end with'p'\n",
    "         like\"s___p\":any value with 5 digits and start with 's' and end with 'p'\n",
    "         \n",
    "     example:select customername from products where customername like \"c%\";\n",
    "             select customername from products where customername like \"c%co.\";#start with c and end with co.\n",
    "             \n",
    "     6.5 if you want % to refer the real % you need to add \\ before %\n",
    "     example:select customername from products where customername like \"%\\%%\"; #--> cb%df\n",
    "             \n",
    "\n",
    "    "
   ]
  },
  {
   "cell_type": "markdown",
   "metadata": {},
   "source": [
    "**7.join**\n",
    "\n",
    "    7.1 types of joins:\n",
    "        1)inner join or simple join\n",
    "        2)left outer join or left join\n",
    "        3)right outer join or right join\n",
    "        4)full outer join or full join\n",
    "    \n",
    "    7.2 inner join: return the common parts\n",
    "        syntax: select table1.col1,table2.col2.. from table1 inner join table2 on table1.colname=table2.colname;\n",
    "        example: select * from t1 inner join t2 on t1.name=t2.id where t1.id>=2;\n",
    "             if the col is unique no need to write t1. or t2.\n",
    "             \n",
    "    7.3 inner join with 3 tables:\n",
    "        syntax: select table1.col1,table2.col2.. \n",
    "                from table1 \n",
    "                inner join table2 \n",
    "                on table1.colname=table2.colname\n",
    "                inner join table3 \n",
    "                on table2.colname=table3.colname\n",
    "    7.4 left & right join:\n",
    "        left join:left all and right common\n",
    "                select table1.col1,table2.col2.. from table1 left join table2 on table1.colname=table2.colname;\n",
    "        right join:right all and left common\n",
    "                select table1.col1,table2.col2.. from table1 right join table2 on table1.colname=table2.colname;\n",
    "          "
   ]
  },
  {
   "cell_type": "markdown",
   "metadata": {},
   "source": [
    "**8.indexing**\n",
    "    \n",
    "    Advantage: faster when search\n",
    "    Disadvantage: lower when insert or delete\n",
    "\n",
    "    8.1 in more formal terms,indexes in database is a kind of data structure that improves the speed of operation  \n",
    "        in a table\n",
    "    \n",
    "    8.2 in mysql, default index are done based on primary key,if table doesn't have primary key-->no index\n",
    "    \n",
    "    8.3 primary key/unique/mul\n",
    "        primary key-->unique+not null\n",
    "    \n",
    "    8.4 default key-->primary key-->cluster indexing\n",
    "                   -->unique key-->non-cluster indexing\n",
    "                   \n",
    "    8.5 see all indexes defined for a table:\n",
    "        8.5.1 show index from tablename from databasename\n",
    "        8.5.2 show index from databasename.tablename \n",
    "        \n",
    "        \n",
    "    8.6 use default indexing:\n",
    "        explain select primary/unique/mul key columns from tablename;#--> only a few rows have been scaned-->faster\n",
    "        explain select non primary/unique/mul key columns from tablename;#--> all the rows have been scaned\n",
    "        \n",
    "    8.7 add & remove indexes\n",
    "        8.7.1 add  1)directly add:\n",
    "                   syntax: create index indexname on tablename (colname);\n",
    "                   example: create index index_postalcode on customers (postalcode);#-->column already exsted\n",
    "                   2)add when create table:\n",
    "                   example: create table test(id int primary key, name varchar(100), index name_index(name));\n",
    "                   \n",
    "        8.7.2 drop syntax: drop index indexname on tablename:\n",
    "                   example: drop index index_postalcode on customers;\n",
    "            \n",
    "        \n",
    "    "
   ]
  }
 ],
 "metadata": {
  "kernelspec": {
   "display_name": "Python 3",
   "language": "python",
   "name": "python3"
  },
  "language_info": {
   "codemirror_mode": {
    "name": "ipython",
    "version": 3
   },
   "file_extension": ".py",
   "mimetype": "text/x-python",
   "name": "python",
   "nbconvert_exporter": "python",
   "pygments_lexer": "ipython3",
   "version": "3.7.3"
  }
 },
 "nbformat": 4,
 "nbformat_minor": 2
}
