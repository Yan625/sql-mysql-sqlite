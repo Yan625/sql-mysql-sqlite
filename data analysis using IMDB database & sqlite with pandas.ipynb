{
 "cells": [
  {
   "cell_type": "markdown",
   "metadata": {},
   "source": [
    "# Project: Movie data analysis\n",
    "IMDB1.sqlite' database contains all details of movies and has three tables with name IMDB, genre and earning."
   ]
  },
  {
   "cell_type": "code",
   "execution_count": 60,
   "metadata": {},
   "outputs": [],
   "source": [
    "import sqlite3\n",
    "import pandas as pd\n",
    "import numpy as np"
   ]
  },
  {
   "cell_type": "code",
   "execution_count": 221,
   "metadata": {},
   "outputs": [
    {
     "data": {
      "text/html": [
       "<div>\n",
       "<style scoped>\n",
       "    .dataframe tbody tr th:only-of-type {\n",
       "        vertical-align: middle;\n",
       "    }\n",
       "\n",
       "    .dataframe tbody tr th {\n",
       "        vertical-align: top;\n",
       "    }\n",
       "\n",
       "    .dataframe thead th {\n",
       "        text-align: right;\n",
       "    }\n",
       "</style>\n",
       "<table border=\"1\" class=\"dataframe\">\n",
       "  <thead>\n",
       "    <tr style=\"text-align: right;\">\n",
       "      <th></th>\n",
       "      <th>Movie_id</th>\n",
       "      <th>Title</th>\n",
       "      <th>Rating</th>\n",
       "      <th>TotalVotes</th>\n",
       "      <th>MetaCritic</th>\n",
       "      <th>Budget</th>\n",
       "      <th>Runtime</th>\n",
       "      <th>CVotes10</th>\n",
       "      <th>CVotes09</th>\n",
       "      <th>CVotes08</th>\n",
       "      <th>...</th>\n",
       "      <th>Votes3044</th>\n",
       "      <th>Votes3044M</th>\n",
       "      <th>Votes3044F</th>\n",
       "      <th>Votes45A</th>\n",
       "      <th>Votes45AM</th>\n",
       "      <th>Votes45AF</th>\n",
       "      <th>VotesIMDB</th>\n",
       "      <th>Votes1000</th>\n",
       "      <th>VotesUS</th>\n",
       "      <th>VotesnUS</th>\n",
       "    </tr>\n",
       "  </thead>\n",
       "  <tbody>\n",
       "    <tr>\n",
       "      <th>0</th>\n",
       "      <td>36809</td>\n",
       "      <td>12 Years a Slave (2013)</td>\n",
       "      <td>8.1</td>\n",
       "      <td>496092</td>\n",
       "      <td>96</td>\n",
       "      <td>2e+07</td>\n",
       "      <td>134 min</td>\n",
       "      <td>75556</td>\n",
       "      <td>126223</td>\n",
       "      <td>161460</td>\n",
       "      <td>...</td>\n",
       "      <td>8.0</td>\n",
       "      <td>7.9</td>\n",
       "      <td>8.0</td>\n",
       "      <td>7.8</td>\n",
       "      <td>7.8</td>\n",
       "      <td>8.1</td>\n",
       "      <td>8.0</td>\n",
       "      <td>7.7</td>\n",
       "      <td>8.3</td>\n",
       "      <td>8.0</td>\n",
       "    </tr>\n",
       "    <tr>\n",
       "      <th>1</th>\n",
       "      <td>30114</td>\n",
       "      <td>127 Hours (2010)</td>\n",
       "      <td>7.6</td>\n",
       "      <td>297075</td>\n",
       "      <td>82</td>\n",
       "      <td>1.8e+07</td>\n",
       "      <td>94 min</td>\n",
       "      <td>28939</td>\n",
       "      <td>44110</td>\n",
       "      <td>98845</td>\n",
       "      <td>...</td>\n",
       "      <td>7.5</td>\n",
       "      <td>7.5</td>\n",
       "      <td>7.5</td>\n",
       "      <td>7.3</td>\n",
       "      <td>7.3</td>\n",
       "      <td>7.5</td>\n",
       "      <td>7.6</td>\n",
       "      <td>7.0</td>\n",
       "      <td>7.7</td>\n",
       "      <td>7.6</td>\n",
       "    </tr>\n",
       "    <tr>\n",
       "      <th>2</th>\n",
       "      <td>37367</td>\n",
       "      <td>50/50 (2011)</td>\n",
       "      <td>7.7</td>\n",
       "      <td>283935</td>\n",
       "      <td>72</td>\n",
       "      <td>8e+06</td>\n",
       "      <td>100 min</td>\n",
       "      <td>28304</td>\n",
       "      <td>47501</td>\n",
       "      <td>99524</td>\n",
       "      <td>...</td>\n",
       "      <td>7.6</td>\n",
       "      <td>7.6</td>\n",
       "      <td>7.6</td>\n",
       "      <td>7.4</td>\n",
       "      <td>7.4</td>\n",
       "      <td>7.5</td>\n",
       "      <td>7.4</td>\n",
       "      <td>7.0</td>\n",
       "      <td>7.9</td>\n",
       "      <td>7.6</td>\n",
       "    </tr>\n",
       "    <tr>\n",
       "      <th>3</th>\n",
       "      <td>49473</td>\n",
       "      <td>About Time (2013)</td>\n",
       "      <td>7.8</td>\n",
       "      <td>225412</td>\n",
       "      <td></td>\n",
       "      <td>1.2e+07</td>\n",
       "      <td>123 min</td>\n",
       "      <td>38556</td>\n",
       "      <td>43170</td>\n",
       "      <td>70850</td>\n",
       "      <td>...</td>\n",
       "      <td>7.6</td>\n",
       "      <td>7.6</td>\n",
       "      <td>7.7</td>\n",
       "      <td>7.6</td>\n",
       "      <td>7.5</td>\n",
       "      <td>7.8</td>\n",
       "      <td>7.7</td>\n",
       "      <td>6.9</td>\n",
       "      <td>7.8</td>\n",
       "      <td>7.7</td>\n",
       "    </tr>\n",
       "    <tr>\n",
       "      <th>4</th>\n",
       "      <td>14867</td>\n",
       "      <td>Amour (2012)</td>\n",
       "      <td>7.9</td>\n",
       "      <td>76121</td>\n",
       "      <td>94</td>\n",
       "      <td>8.9e+06</td>\n",
       "      <td>127 min</td>\n",
       "      <td>11093</td>\n",
       "      <td>15944</td>\n",
       "      <td>22942</td>\n",
       "      <td>...</td>\n",
       "      <td>7.7</td>\n",
       "      <td>7.7</td>\n",
       "      <td>7.9</td>\n",
       "      <td>7.9</td>\n",
       "      <td>7.8</td>\n",
       "      <td>8.1</td>\n",
       "      <td>6.6</td>\n",
       "      <td>7.2</td>\n",
       "      <td>7.9</td>\n",
       "      <td>7.8</td>\n",
       "    </tr>\n",
       "  </tbody>\n",
       "</table>\n",
       "<p>5 rows × 52 columns</p>\n",
       "</div>"
      ],
      "text/plain": [
       "  Movie_id                    Title  Rating  TotalVotes MetaCritic   Budget  \\\n",
       "0    36809  12 Years a Slave (2013)     8.1      496092         96    2e+07   \n",
       "1    30114         127 Hours (2010)     7.6      297075         82  1.8e+07   \n",
       "2    37367             50/50 (2011)     7.7      283935         72    8e+06   \n",
       "3    49473        About Time (2013)     7.8      225412             1.2e+07   \n",
       "4    14867             Amour (2012)     7.9       76121         94  8.9e+06   \n",
       "\n",
       "   Runtime CVotes10 CVotes09 CVotes08  ... Votes3044 Votes3044M Votes3044F  \\\n",
       "0  134 min    75556   126223   161460  ...       8.0        7.9        8.0   \n",
       "1   94 min    28939    44110    98845  ...       7.5        7.5        7.5   \n",
       "2  100 min    28304    47501    99524  ...       7.6        7.6        7.6   \n",
       "3  123 min    38556    43170    70850  ...       7.6        7.6        7.7   \n",
       "4  127 min    11093    15944    22942  ...       7.7        7.7        7.9   \n",
       "\n",
       "  Votes45A Votes45AM Votes45AF VotesIMDB Votes1000 VotesUS VotesnUS  \n",
       "0      7.8       7.8       8.1       8.0       7.7     8.3      8.0  \n",
       "1      7.3       7.3       7.5       7.6       7.0     7.7      7.6  \n",
       "2      7.4       7.4       7.5       7.4       7.0     7.9      7.6  \n",
       "3      7.6       7.5       7.8       7.7       6.9     7.8      7.7  \n",
       "4      7.9       7.8       8.1       6.6       7.2     7.9      7.8  \n",
       "\n",
       "[5 rows x 52 columns]"
      ]
     },
     "execution_count": 221,
     "metadata": {},
     "output_type": "execute_result"
    }
   ],
   "source": [
    "database=sqlite3.connect('IMDB.sqlite')\n",
    "IMDB=pd.read_sql_query('select * from IMDB',database)\n",
    "IMDB.head()"
   ]
  },
  {
   "cell_type": "code",
   "execution_count": 4,
   "metadata": {},
   "outputs": [
    {
     "data": {
      "text/html": [
       "<div>\n",
       "<style scoped>\n",
       "    .dataframe tbody tr th:only-of-type {\n",
       "        vertical-align: middle;\n",
       "    }\n",
       "\n",
       "    .dataframe tbody tr th {\n",
       "        vertical-align: top;\n",
       "    }\n",
       "\n",
       "    .dataframe thead th {\n",
       "        text-align: right;\n",
       "    }\n",
       "</style>\n",
       "<table border=\"1\" class=\"dataframe\">\n",
       "  <thead>\n",
       "    <tr style=\"text-align: right;\">\n",
       "      <th></th>\n",
       "      <th>Movie_id</th>\n",
       "      <th>genre</th>\n",
       "    </tr>\n",
       "  </thead>\n",
       "  <tbody>\n",
       "    <tr>\n",
       "      <th>0</th>\n",
       "      <td>36809</td>\n",
       "      <td>Biography</td>\n",
       "    </tr>\n",
       "    <tr>\n",
       "      <th>1</th>\n",
       "      <td>30114</td>\n",
       "      <td>Adventure</td>\n",
       "    </tr>\n",
       "    <tr>\n",
       "      <th>2</th>\n",
       "      <td>37367</td>\n",
       "      <td>Comedy</td>\n",
       "    </tr>\n",
       "    <tr>\n",
       "      <th>3</th>\n",
       "      <td>49473</td>\n",
       "      <td>Comedy</td>\n",
       "    </tr>\n",
       "    <tr>\n",
       "      <th>4</th>\n",
       "      <td>14867</td>\n",
       "      <td>Drama</td>\n",
       "    </tr>\n",
       "  </tbody>\n",
       "</table>\n",
       "</div>"
      ],
      "text/plain": [
       "  Movie_id      genre\n",
       "0    36809  Biography\n",
       "1    30114  Adventure\n",
       "2    37367     Comedy\n",
       "3    49473     Comedy\n",
       "4    14867      Drama"
      ]
     },
     "execution_count": 4,
     "metadata": {},
     "output_type": "execute_result"
    }
   ],
   "source": [
    "genre=pd.read_sql_query('select * from genre',database)\n",
    "genre.head()"
   ]
  },
  {
   "cell_type": "code",
   "execution_count": 6,
   "metadata": {},
   "outputs": [
    {
     "data": {
      "text/html": [
       "<div>\n",
       "<style scoped>\n",
       "    .dataframe tbody tr th:only-of-type {\n",
       "        vertical-align: middle;\n",
       "    }\n",
       "\n",
       "    .dataframe tbody tr th {\n",
       "        vertical-align: top;\n",
       "    }\n",
       "\n",
       "    .dataframe thead th {\n",
       "        text-align: right;\n",
       "    }\n",
       "</style>\n",
       "<table border=\"1\" class=\"dataframe\">\n",
       "  <thead>\n",
       "    <tr style=\"text-align: right;\">\n",
       "      <th></th>\n",
       "      <th>Movie_id</th>\n",
       "      <th>Domestic</th>\n",
       "      <th>Worldwide</th>\n",
       "    </tr>\n",
       "  </thead>\n",
       "  <tbody>\n",
       "    <tr>\n",
       "      <th>0</th>\n",
       "      <td>36809</td>\n",
       "      <td>56671993</td>\n",
       "      <td>187733202.0</td>\n",
       "    </tr>\n",
       "    <tr>\n",
       "      <th>1</th>\n",
       "      <td>30114</td>\n",
       "      <td>18335230</td>\n",
       "      <td>60738797.0</td>\n",
       "    </tr>\n",
       "    <tr>\n",
       "      <th>2</th>\n",
       "      <td>37367</td>\n",
       "      <td>35014192</td>\n",
       "      <td>39187783.0</td>\n",
       "    </tr>\n",
       "    <tr>\n",
       "      <th>3</th>\n",
       "      <td>49473</td>\n",
       "      <td>15322921</td>\n",
       "      <td>87100449.0</td>\n",
       "    </tr>\n",
       "    <tr>\n",
       "      <th>4</th>\n",
       "      <td>14867</td>\n",
       "      <td>6739492</td>\n",
       "      <td>19839492.0</td>\n",
       "    </tr>\n",
       "  </tbody>\n",
       "</table>\n",
       "</div>"
      ],
      "text/plain": [
       "  Movie_id  Domestic    Worldwide\n",
       "0    36809  56671993  187733202.0\n",
       "1    30114  18335230   60738797.0\n",
       "2    37367  35014192   39187783.0\n",
       "3    49473  15322921   87100449.0\n",
       "4    14867   6739492   19839492.0"
      ]
     },
     "execution_count": 6,
     "metadata": {},
     "output_type": "execute_result"
    }
   ],
   "source": [
    "earning=pd.read_sql_query('select * from earning',database)\n",
    "earning.head()"
   ]
  },
  {
   "cell_type": "markdown",
   "metadata": {},
   "source": [
    "**1.IMDB Voted**:\n",
    "\n",
    "the most voted movie in IMDB Movie Database."
   ]
  },
  {
   "cell_type": "code",
   "execution_count": 18,
   "metadata": {},
   "outputs": [
    {
     "name": "stdout",
     "output_type": "stream",
     "text": [
      "Inception (2010) 8.8\n"
     ]
    }
   ],
   "source": [
    "most_vote=pd.read_sql_query(\"select Title, Rating,TotalVotes from IMDB order by TotalVotes desc\",database)\n",
    "print(most_vote['Title'][0],most_vote['Rating'][0])"
   ]
  },
  {
   "cell_type": "markdown",
   "metadata": {},
   "source": [
    "**2.IMDB running time:**\n",
    "\n",
    "the Movie with Longest-Running Time from IMDB Movie database."
   ]
  },
  {
   "cell_type": "code",
   "execution_count": 114,
   "metadata": {},
   "outputs": [
    {
     "name": "stdout",
     "output_type": "stream",
     "text": [
      "The Wolf of Wall Street (2013) 180\n"
     ]
    }
   ],
   "source": [
    "Longest_runtime=pd.read_sql_query(\"select Title, Runtime from IMDB order by Runtime\",database)\n",
    "Longest_runtime=Longest_runtime[21:]\n",
    "\n",
    "runtime=Longest_runtime['Runtime'].str.split()\n",
    "time=[]\n",
    "for i in runtime:\n",
    "    time.append(int(i[0]))\n",
    "\n",
    "\n",
    "time=np.array(time)\n",
    "index=np.argmax(time)\n",
    "\n",
    "Longest_runtime=np.array(Longest_runtime)\n",
    "print(Longest_runtime[index][0],time[index])"
   ]
  },
  {
   "cell_type": "markdown",
   "metadata": {},
   "source": [
    "**3.IMDB profit**:\n",
    "\n",
    " the movie which has maximum net profit in IMDB Movie Database.\n",
    " \n",
    " Net Profit= Total Earning(Domestic+WorldWide earning) - budget"
   ]
  },
  {
   "cell_type": "code",
   "execution_count": 231,
   "metadata": {},
   "outputs": [
    {
     "name": "stdout",
     "output_type": "stream",
     "text": [
      "Star Wars: The Force Awakens (2015)\n"
     ]
    },
    {
     "name": "stderr",
     "output_type": "stream",
     "text": [
      "//anaconda3/lib/python3.7/site-packages/ipykernel_launcher.py:4: SettingWithCopyWarning: \n",
      "A value is trying to be set on a copy of a slice from a DataFrame\n",
      "\n",
      "See the caveats in the documentation: http://pandas.pydata.org/pandas-docs/stable/indexing.html#indexing-view-versus-copy\n",
      "  after removing the cwd from sys.path.\n"
     ]
    }
   ],
   "source": [
    "data=pd.read_sql_query(\"select Title,Domestic,Worldwide,Budget from IMDB inner join earning on IMDB.Movie_id=earning.Movie_id\",\n",
    "                                     database)\n",
    "Budget=data['Budget']\n",
    "Budget[Budget=='']=np.nan\n",
    "\n",
    "data=data.dropna()\n",
    "data['Budget'] = pd.to_numeric(data['Budget'])\n",
    "data['net_profit']=data['Domestic']+data['Worldwide']-data['Budget']\n",
    "\n",
    "net_profit=data['net_profit']\n",
    "net_profit=np.array(net_profit)\n",
    "\n",
    "index=np.argmax(net_profit)\n",
    "\n",
    "data=np.array(data)\n",
    "\n",
    "print(data[index][0])"
   ]
  },
  {
   "cell_type": "markdown",
   "metadata": {},
   "source": [
    "**4.IMDB least budget**\n",
    "the least budgeted movie in IMDB Movie Database.(If there is more than one least budgeted movies then print the movie which has maximum net profit.)"
   ]
  },
  {
   "cell_type": "code",
   "execution_count": 241,
   "metadata": {},
   "outputs": [
    {
     "name": "stdout",
     "output_type": "stream",
     "text": [
      "Short Term 12 (2013)\n"
     ]
    },
    {
     "name": "stderr",
     "output_type": "stream",
     "text": [
      "//anaconda3/lib/python3.7/site-packages/ipykernel_launcher.py:4: SettingWithCopyWarning: \n",
      "A value is trying to be set on a copy of a slice from a DataFrame\n",
      "\n",
      "See the caveats in the documentation: http://pandas.pydata.org/pandas-docs/stable/indexing.html#indexing-view-versus-copy\n",
      "  after removing the cwd from sys.path.\n"
     ]
    }
   ],
   "source": [
    "data=pd.read_sql_query(\"select Title,Domestic,Worldwide,Budget from IMDB inner join earning on IMDB.Movie_id=earning.Movie_id\",\n",
    "                                     database)\n",
    "Budget=data['Budget']\n",
    "Budget[Budget=='']=np.nan\n",
    "\n",
    "data=data.dropna()\n",
    "data['Budget'] = pd.to_numeric(data['Budget'])\n",
    "\n",
    "data['net_profit']=data['Domestic']+data['Worldwide']-data['Budget']\n",
    "data.to_sql(\"profit1\",database)\n",
    "data1=pd.read_sql_query(\"select Title,Budget,net_profit from profit1 order by Budget asc,net_profit desc\",\n",
    "                                     database)\n",
    "\n",
    "data1=np.array(data1)\n",
    "print(data1[0][0])"
   ]
  },
  {
   "cell_type": "markdown",
   "metadata": {},
   "source": [
    "**5.IMDB Year Top**\n",
    "\n",
    "the highest-grossing movie (i.e domestic earning + worldwide earning) in IMDB database year wise."
   ]
  },
  {
   "cell_type": "code",
   "execution_count": 311,
   "metadata": {},
   "outputs": [
    {
     "name": "stdout",
     "output_type": "stream",
     "text": [
      "2010 Toy Story 3 (2010)\n",
      "2011 Rise of the Planet of the Apes (2011)\n",
      "2012 The Avengers (2012)\n",
      "2013 The Hunger Games: Catching Fire (2013)\n",
      "2014 Guardians of the Galaxy (2014)\n",
      "2015 Star Wars: The Force Awakens (2015)\n",
      "2016 Rogue One (2016)\n"
     ]
    }
   ],
   "source": [
    "data=pd.read_sql_query(\"select Title,Domestic,Worldwide from IMDB inner join earning on IMDB.Movie_id=earning.Movie_id\",\n",
    "                                     database)\n",
    "\n",
    "data['grossing']=data['Domestic']+data['Worldwide']\n",
    "\n",
    "a=data['Title'].str.split()\n",
    "year=[]\n",
    "for i in data['Title']:\n",
    "    year.append(i[-5:-1])\n",
    "data['year']=year\n",
    "data.to_sql('grossingyear1',database)\n",
    "data=pd.read_sql_query('select year,grossing,Title from grossingyear1 order by year asc, grossing desc',database)\n",
    "data=np.array(data)\n",
    "\n",
    "time=[]\n",
    "for i in data:\n",
    "    time.append(int(i[0]))\n",
    "\n",
    "time=np.array(time)\n",
    "\n",
    "index=[]\n",
    "\n",
    "index1=np.where(time==2010)\n",
    "for i in index1:\n",
    "    index.append(i[0])\n",
    "\n",
    "index2=np.where(time==2011)\n",
    "for i in index2:\n",
    "    index.append(i[0])\n",
    "    \n",
    "index3=np.where(time==2012)\n",
    "for i in index3:\n",
    "    index.append(i[0])\n",
    "\n",
    "index4=np.where(time==2013)\n",
    "for i in index4:\n",
    "    index.append(i[0])\n",
    "    \n",
    "index5=np.where(time==2014)\n",
    "for i in index5:\n",
    "    index.append(i[0])\n",
    "    \n",
    "index6=np.where(time==2015)\n",
    "for i in index6:\n",
    "    index.append(i[0])\n",
    "    \n",
    "index7=np.where(time==2016)\n",
    "for i in index7:\n",
    "    index.append(i[0])\n",
    "\n",
    "for i in index:\n",
    "    print(data[i][0],data[i][2])"
   ]
  },
  {
   "cell_type": "markdown",
   "metadata": {},
   "source": [
    "**6.IMDB genre budget**\n",
    "\n",
    "the percentage of the budget for each genre in IMDB Movie Dataset.Plot the pie chart."
   ]
  },
  {
   "cell_type": "code",
   "execution_count": 316,
   "metadata": {},
   "outputs": [],
   "source": [
    "data=pd.read_sql_query(\"select genre,Budget from IMDB inner join genre on IMDB.Movie_id=genre.Movie_id\",\n",
    "                                     database)\n",
    "Budget=data['Budget']\n",
    "Budget[Budget=='']='0.0'\n",
    "\n",
    "genre=data['genre']\n",
    "genre[genre=='']=np.nan\n",
    "\n",
    "data=data.dropna()\n",
    "data['Budget'] = pd.to_numeric(data['Budget'])\n",
    "\n",
    "\n",
    "data.to_sql('genrebudget',database)"
   ]
  },
  {
   "cell_type": "code",
   "execution_count": 340,
   "metadata": {},
   "outputs": [
    {
     "data": {
      "image/png": "[encoded data removed]",
      "text/plain": [
       "<Figure size 432x288 with 1 Axes>"
      ]
     },
     "metadata": {},
     "output_type": "display_data"
    },
    {
     "name": "stdout",
     "output_type": "stream",
     "text": [
      "Action 17.98\n",
      "Adventure 25.10\n",
      "Animation 7.66\n",
      "Biography 2.59\n",
      "Comedy 7.22\n",
      "Crime 1.77\n",
      "Drama 10.85\n",
      "Family 1.91\n",
      "Fantasy 4.54\n",
      "History 0.72\n",
      "Horror 0.03\n",
      "Music 0.15\n",
      "Musical 0.25\n",
      "Mystery 1.95\n",
      "Romance 1.12\n",
      "Sci-Fi 10.77\n",
      "Sport 0.46\n",
      "Thriller 3.99\n",
      "War 0.36\n",
      "Western 0.57\n"
     ]
    }
   ],
   "source": [
    "data=pd.read_sql_query(\"select genre,sum(Budget) as budget from genrebudget group by genre\",database )\n",
    "\n",
    "import matplotlib.pyplot as plt\n",
    "budget=data['budget']\n",
    "budget=np.array(budget)\n",
    "genre=data['genre']\n",
    "genre=np.array(genre)\n",
    "plt.pie(budget,labels=genre)\n",
    "plt.show()\n",
    "\n",
    "\n",
    "totalbudget=data['budget'].sum()\n",
    "data['percentage']=data['budget']/totalbudget\n",
    "data=np.array(data)\n",
    "for i in data:\n",
    "    print(i[0],format(i[2]*100,'.2f'))"
   ]
  },
  {
   "cell_type": "markdown",
   "metadata": {},
   "source": [
    "**7.IMDB genre earning**\n",
    " the percentage of the total earning for each genre in IMDB Movie Dataset.Plot the pie chart."
   ]
  },
  {
   "cell_type": "code",
   "execution_count": 345,
   "metadata": {},
   "outputs": [],
   "source": [
    "data=pd.read_sql_query(\"select genre,Domestic,Worldwide from genre inner join earning on genre.Movie_id=earning.Movie_id\",\n",
    "                                     database)\n",
    "\n",
    "data['earning']=data['Domestic']+data['Worldwide']\n",
    "data.to_sql('genreearning1',database)"
   ]
  },
  {
   "cell_type": "code",
   "execution_count": 352,
   "metadata": {},
   "outputs": [
    {
     "name": "stderr",
     "output_type": "stream",
     "text": [
      "//anaconda3/lib/python3.7/site-packages/ipykernel_launcher.py:4: SettingWithCopyWarning: \n",
      "A value is trying to be set on a copy of a slice from a DataFrame\n",
      "\n",
      "See the caveats in the documentation: http://pandas.pydata.org/pandas-docs/stable/indexing.html#indexing-view-versus-copy\n",
      "  after removing the cwd from sys.path.\n"
     ]
    },
    {
     "data": {
      "image/png": "[encoded data removed]",
      "text/plain": [
       "<Figure size 432x288 with 1 Axes>"
      ]
     },
     "metadata": {},
     "output_type": "display_data"
    },
    {
     "name": "stdout",
     "output_type": "stream",
     "text": [
      "Action 17.91\n",
      "Adventure 23.57\n",
      "Animation 6.77\n",
      "Biography 3.42\n",
      "Comedy 7.69\n",
      "Crime 1.55\n",
      "Drama 11.96\n",
      "Family 1.05\n",
      "Fantasy 5.15\n",
      "History 1.04\n",
      "Horror 0.01\n",
      "Music 0.43\n",
      "Musical 0.38\n",
      "Mystery 2.01\n",
      "Romance 1.45\n",
      "Sci-Fi 9.95\n",
      "Sport 0.32\n",
      "Thriller 4.42\n",
      "War 0.25\n",
      "Western 0.65\n"
     ]
    }
   ],
   "source": [
    "data=pd.read_sql_query(\"select genre,sum(earning) as earning from genreearning1 group by genre\",database )\n",
    "\n",
    "genre=data['genre']\n",
    "genre[genre=='']=np.nan\n",
    "data=data.dropna()\n",
    "\n",
    "import matplotlib.pyplot as plt\n",
    "earning=data['earning']\n",
    "earning=np.array(earning)\n",
    "genre=data['genre']\n",
    "genre=np.array(genre)\n",
    "plt.pie(earning,labels=genre)\n",
    "plt.show()\n",
    "\n",
    "\n",
    "totalearning=data['earning'].sum()\n",
    "data['percentage']=data['earning']/totalearning\n",
    "data=np.array(data)\n",
    "\n",
    "for i in data:\n",
    "    print(i[0],format(i[2]*100,'.2f'))"
   ]
  },
  {
   "cell_type": "markdown",
   "metadata": {},
   "source": [
    "**8.IMDB Specific Genre**\n",
    "\n",
    "the movie which has genre of 'Sci-Fi' and 'Mystery' and movie rating is greater or equal to 8 from IMDB Movie Database."
   ]
  },
  {
   "cell_type": "code",
   "execution_count": 378,
   "metadata": {},
   "outputs": [
    {
     "name": "stdout",
     "output_type": "stream",
     "text": [
      "Arrival (2016)\n"
     ]
    },
    {
     "name": "stderr",
     "output_type": "stream",
     "text": [
      "//anaconda3/lib/python3.7/site-packages/ipykernel_launcher.py:4: SettingWithCopyWarning: \n",
      "A value is trying to be set on a copy of a slice from a DataFrame\n",
      "\n",
      "See the caveats in the documentation: http://pandas.pydata.org/pandas-docs/stable/indexing.html#indexing-view-versus-copy\n",
      "  after removing the cwd from sys.path.\n"
     ]
    }
   ],
   "source": [
    "data=pd.read_sql_query(\"select Title,genre,Rating from IMDB inner join genre on genre.Movie_id=IMDB.Movie_id\",\n",
    "                                     database)\n",
    "genre=data['genre']\n",
    "genre[genre=='']=np.nan\n",
    "data=data.dropna()\n",
    "data=data[data['Rating']>=8]\n",
    "\n",
    "key=data['Title']\n",
    "key=np.array(key)\n",
    "value=data['genre']\n",
    "value=np.array(value)\n",
    "\n",
    "Dict={}\n",
    "for i in range(len(key)):\n",
    "    if key[i] in Dict:\n",
    "        Dict[key[i]]+=value[i]\n",
    "    else:\n",
    "        Dict[key[i]]=value[i]\n",
    "for i in Dict:\n",
    "    if 'Sci-Fi' in Dict[i] and 'Mystery' in Dict[i]:\n",
    "        print(i)"
   ]
  },
  {
   "cell_type": "code",
   "execution_count": null,
   "metadata": {},
   "outputs": [],
   "source": []
  }
 ],
 "metadata": {
  "kernelspec": {
   "display_name": "Python 3",
   "language": "python",
   "name": "python3"
  },
  "language_info": {
   "codemirror_mode": {
    "name": "ipython",
    "version": 3
   },
   "file_extension": ".py",
   "mimetype": "text/x-python",
   "name": "python",
   "nbconvert_exporter": "python",
   "pygments_lexer": "ipython3",
   "version": "3.7.3"
  }
 },
 "nbformat": 4,
 "nbformat_minor": 2
}
