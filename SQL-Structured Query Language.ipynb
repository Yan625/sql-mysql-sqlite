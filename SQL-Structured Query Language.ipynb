{
 "cells": [
  {
   "cell_type": "markdown",
   "metadata": {},
   "source": [
    "# SQL Syntax "
   ]
  },
  {
   "cell_type": "markdown",
   "metadata": {},
   "source": [
    "## Basic \n",
    "\n",
    "**0.clear page:**\n",
    "\n",
    "        system clear;\n",
    "\n",
    "**1.connect to mysql**\n",
    "\n",
    "        /usr/local/mysql/bin/mysql -u root -p\n",
    "\n",
    "**2.see all the databases:**\n",
    "\n",
    "        show databases;\n",
    "        \n",
    "        ##########################################################\n",
    "        show databases;-->show all the databases\n",
    "        use databases;-->use single database\n",
    "        show tables;-->show all the tables in that single database\n",
    "        disc tablename;-->show the column name of specific table\n",
    "        ##########################################################\n",
    "        \n",
    "**3.use database:**\n",
    "\n",
    "        use DatabaseName;\n",
    "        \n",
    "**4.see all the tables under specific database:**\n",
    "\n",
    "        show tables;\n",
    "        \n",
    "**5.create table:**\n",
    " \n",
    "        create table TableName( columnname1 int primary key, columnname2 varchar(100) not null, columnname3 int);\n",
    "\n",
    "**6.insert values:**\n",
    "\n",
    "       insert into TableName values(25, 'Aman', 'Bengaluru', 32569);\n",
    "       or\n",
    "       insert into TableName(columnname1,columnname3) values( value1,value3);\n",
    "\n",
    "**7.see content:**\n",
    "\n",
    "       describe TableName;#--->see table content\n",
    "       describe ColumnName;#--->see column content\n",
    "       \n",
    "\n",
    "**8.select all the columns from a table:**\n",
    "\n",
    "       select* from TableName;\n",
    "       \n",
    "**9.update table:**\n",
    "       \n",
    "       9.1 add:\n",
    "       alter table TableName add(Address varchar(100));\n",
    "       alter table TableName add(Email_ID varchar(100), Contact_no varchar(100));\n",
    "       alter table TableName add(test int default 100);\n",
    "       \n",
    "       9.2 modify:\n",
    "           9.2.1 change data type\n",
    "              alter table TableName modify Contact_no int;\n",
    "           9.2.2 rename a column\n",
    "              alter table TableName change Address Location varchar(100); #change column name address to location\n",
    "           9.2.3 delete column\n",
    "              alter table TableName drop column Test;\n",
    "              alter table TableName drop column Email_ID,drop column Contact_no;\n",
    "       \n",
    "       \n",
    "       "
   ]
  },
  {
   "cell_type": "markdown",
   "metadata": {},
   "source": [
    "**10.retrive data**\n",
    "\n",
    "    10.1 select all:\n",
    "       select * from TableName;\n",
    "    10.2 select one column:\n",
    "       select columnname from TableName;\n",
    "    10.3 select multiple column:\n",
    "       select columnname1,columnname2 from TableName; #table followt your selection order\n",
    "       \n",
    "    10.4 retrive data from outer source:\n",
    "       source'file_name.sql'\n",
    "       like:source Desktop/mysqlsampledatabase.sql;\n",
    "    \n",
    "**11.restrict result set:**\n",
    "\n",
    "    11.1 limit\n",
    "          selec ColumnName from TableName limit 20;    \n",
    "    11.2 distinct\n",
    "          selec distinct ColumnName from TableName      "
   ]
  },
  {
   "cell_type": "markdown",
   "metadata": {},
   "source": [
    "**12.filter result:**\n",
    "  \n",
    "    select* from orders where atatus = 'In Process';\n",
    "    select* from orders where ordernumber > 100 and ordernumber < 120;\n",
    "    select* from orders where comments is not Null;\n",
    "    select* from orders where comments is Null limit 10;"
   ]
  },
  {
   "cell_type": "markdown",
   "metadata": {},
   "source": [
    "**13.aggregate functions:perform a calculation on a set of values and return a single value**\n",
    "\n",
    "    different functions:\n",
    "               count:count(*)\n",
    "                     count(column_name)\n",
    "                     count(distinc column_name)\n",
    "               avg\n",
    "               max\n",
    "               min\n",
    "               sum\n",
    "    \n",
    "    13.1 count\n",
    "         select count(*) from student;#-->return the number of records(4)\n",
    "         select count(age) from student;#-->return not null records(2)\n",
    "         select count(distinc age) from student;#-->return not null and distinct records(1)\n",
    "         select count(*) from student where age is not null;\n",
    "         \n",
    "    13.2 avg\n",
    "         select avg(columnname) from tablename where amount>2000;\n",
    "         \n",
    "    13.3 min & max & sum\n",
    "         select min(columnname) from tablename;\n",
    "         select max(columnname) from tablename;\n",
    "         select sum(columnname) from tablename;        "
   ]
  },
  {
   "cell_type": "markdown",
   "metadata": {},
   "source": [
    "**14.Update and delete**\n",
    "\n",
    "    14.1 update:\n",
    "         update faculty set salary=5000;#update all the salary 5000\n",
    "         update faculty set salary=5000 where Faculty_id=101;\n",
    "    14.2 delete:\n",
    "         delete from faculty;#-->delete all the content\n",
    "         delete from faculty where salary=1000;\n",
    "    14.3 truncate:delete all the table content\n",
    "         truncate faculty;\n",
    "    14.4 drop:delete table completely\n",
    "         drop table falculty;\n",
    "         drop databases school;         "
   ]
  },
  {
   "cell_type": "markdown",
   "metadata": {},
   "source": [
    "## Advance"
   ]
  },
  {
   "cell_type": "markdown",
   "metadata": {},
   "source": [
    "**1. group by**\n",
    " \n",
    "     select country, count(*) from customers group by country; \n",
    "     select country, state,count(*) from customers group by country,state; "
   ]
  },
  {
   "cell_type": "markdown",
   "metadata": {},
   "source": [
    "**2. having**\n",
    "\n",
    "    group by can not be used with where+functions like where age>50, but having can do this;\n",
    "    wrong: select state,count(*) from customers where count(*)>5 group by state;\n",
    "    right: select state,count(*) from customers group by state having count(*)>5 desc;"
   ]
  },
  {
   "cell_type": "markdown",
   "metadata": {},
   "source": [
    "**3.IN / NOT IN**\n",
    "\n",
    "    the IN operator is a shorthand for multiple OR conditions\n",
    "    the IN operator allows you to determine if a specified value matches anyvalue from a list or from a subquery\n",
    "    syntax:select column1...from tablename where (expr/columns) in (\"value1\",\"value2\"..)must seperate with','\n",
    "           select column1...from tablename where (expr/columns) not in (\"value1\",\"value2\"..)must seperate with','"
   ]
  },
  {
   "cell_type": "markdown",
   "metadata": {},
   "source": [
    "**4.order by**\n",
    "\n",
    "    select productname,productline from products where producline in ('motocycle','classic cars') and quantityin stock>500 order by quantityin stock;"
   ]
  },
  {
   "cell_type": "markdown",
   "metadata": {},
   "source": [
    "**5.between**\n",
    "\n",
    "    5.1 can use between clause to replace a combination of\"greater than equal\" and \"lessthan equal\"conditions\n",
    "    5.2 syntax: select columnname from tablename where columnname between value1 and value2;\n",
    "    5.3 it will return the records with in the range of value1 and value2(inclusive)\n",
    "    5.4 values can be numbers, text and dates\n",
    "    \n",
    "    select productname, productline from products where quantityinstock between 500 and 700;\n",
    "    select productname, productline from products where quantityinstock not between 500 and 700;"
   ]
  },
  {
   "cell_type": "markdown",
   "metadata": {},
   "source": [
    "**6.like**\n",
    "\n",
    "     6.1 like operator is used in a where clause to search for a specific pattern in a column\n",
    "     6.2 there are two wildcards used in conjunction with the like operator:\n",
    "         6.2.2 %:the percent sign represents zero, one, or multiple characters\n",
    "         6.2.3 _: the underscore represent a single character\n",
    "     6.3 syntax: select column..from tablename where column like pattern\n",
    "     6.4 pattern:\n",
    "         like's%':any value starts with\"s\"\n",
    "         like'%s%':any value which have \"s\" in any position\n",
    "         like'_ss%':any value which the second and third postion is \"s\"\n",
    "         like's_%_%:any value starts with s and have at least 3 characters in length\n",
    "         like'%s':any value ends with 's'\n",
    "         like\"_s%p\":'s'in the second position and end with'p'\n",
    "         like\"s___p\":any value with 5 digits and start with 's' and end with 'p'\n",
    "         \n",
    "     example:select customername from products where customername like \"c%\";\n",
    "             select customername from products where customername like \"c%co.\";#start with c and end with co.\n",
    "             \n",
    "     6.5 if you want % to refer the real % you need to add \\ before %\n",
    "     example:select customername from products where customername like \"%\\%%\"; #--> cb%df\n",
    "             \n",
    "\n",
    "    "
   ]
  },
  {
   "cell_type": "markdown",
   "metadata": {},
   "source": [
    "**7.join**\n",
    "\n",
    "    7.1 types of joins:\n",
    "        1)inner join or simple join\n",
    "        2)left outer join or left join\n",
    "        3)right outer join or right join\n",
    "        4)full outer join or full join\n",
    "    \n",
    "    7.2 inner join: return the common parts\n",
    "        syntax: select table1.col1,table2.col2.. from table1 inner join table2 on table1.colname=table2.colname;\n",
    "        example: select * from t1 inner join t2 on t1.name=t2.id where t1.id>=2;\n",
    "             if the col is unique no need to write t1. or t2.\n",
    "             \n",
    "    7.3 inner join with 3 tables:\n",
    "        syntax: select table1.col1,table2.col2.. \n",
    "                from table1 \n",
    "                inner join table2 \n",
    "                on table1.colname=table2.colname\n",
    "                inner join table3 \n",
    "                on table2.colname=table3.colname\n",
    "    7.4 left & right join:\n",
    "        left join:left all and right common\n",
    "                select table1.col1,table2.col2.. from table1 left join table2 on table1.colname=table2.colname;\n",
    "        right join:right all and left common\n",
    "                select table1.col1,table2.col2.. from table1 right join table2 on table1.colname=table2.colname;\n",
    "          "
   ]
  },
  {
   "cell_type": "markdown",
   "metadata": {},
   "source": [
    "**8.indexing**\n",
    "    \n",
    "    Advantage: faster when search\n",
    "    Disadvantage: lower when insert or delete\n",
    "\n",
    "    8.1 in more formal terms,indexes in database is a kind of data structure that improves the speed of operation  \n",
    "        in a table\n",
    "    \n",
    "    8.2 in mysql, default index are done based on primary key,if table doesn't have primary key-->no index\n",
    "    \n",
    "    8.3 primary key/unique/mul\n",
    "        primary key-->unique+not null\n",
    "    \n",
    "    8.4 default key-->primary key-->cluster indexing\n",
    "                   -->unique key-->non-cluster indexing\n",
    "                   \n",
    "    8.5 see all indexes defined for a table:\n",
    "        8.5.1 show index from tablename from databasename\n",
    "        8.5.2 show index from databasename.tablename \n",
    "        \n",
    "        \n",
    "    8.6 use default indexing:\n",
    "        explain select primary/unique/mul key columns from tablename;#--> only a few rows have been scaned-->faster\n",
    "        explain select non primary/unique/mul key columns from tablename;#--> all the rows have been scaned\n",
    "        \n",
    "    8.7 add & remove indexes\n",
    "        8.7.1 add  1)directly add:\n",
    "                   syntax: create index indexname on tablename (colname);\n",
    "                   example: create index index_postalcode on customers (postalcode);#-->column already exsted\n",
    "                   2)add when create table:\n",
    "                   example: create table test(id int primary key, name varchar(100), index name_index(name));\n",
    "                   \n",
    "        8.7.2 drop syntax: drop index indexname on tablename:\n",
    "                   example: drop index index_postalcode on customers;\n",
    "            \n",
    "        \n",
    "    "
   ]
  },
  {
   "cell_type": "markdown",
   "metadata": {},
   "source": [
    "**9.SQLite**\n",
    "     \n",
    "     1)it is a relational database management system based on SQL language\n",
    "     2)it is self-contained,serverless and zero-configuration\n",
    "     3)it is very fast and lightweight, and the entire database is stored in a single disk file\n",
    "     4)the lite in SQLite means light weight in terms of setup,database administration and required resource.\n",
    "     5)it is used in a lot of applications as internal data storage"
   ]
  },
  {
   "cell_type": "markdown",
   "metadata": {},
   "source": [
    "**10.DB browser**\n",
    "\n",
    "    DB browser help us to see the databases being created and edited in real time.\n",
    "    1)open DB\n",
    "    2)open database\n",
    "    3)browse data"
   ]
  },
  {
   "cell_type": "markdown",
   "metadata": {},
   "source": [
    "**11.connect with DB**\n"
   ]
  },
  {
   "cell_type": "markdown",
   "metadata": {},
   "source": [
    "     **11.1 create database**"
   ]
  },
  {
   "cell_type": "code",
   "execution_count": 26,
   "metadata": {},
   "outputs": [
    {
     "data": {
      "text/plain": [
       "<sqlite3.Connection at 0x10f4b8e30>"
      ]
     },
     "execution_count": 26,
     "metadata": {},
     "output_type": "execute_result"
    }
   ],
   "source": [
    "import sqlite3\n",
    "database=sqlite3.connect('School.sqlite')\n",
    "database"
   ]
  },
  {
   "cell_type": "code",
   "execution_count": 27,
   "metadata": {},
   "outputs": [
    {
     "data": {
      "text/plain": [
       "<sqlite3.Cursor at 0x10f6127a0>"
      ]
     },
     "execution_count": 27,
     "metadata": {},
     "output_type": "execute_result"
    }
   ],
   "source": [
    "cur=database.cursor()\n",
    "cur"
   ]
  },
  {
   "cell_type": "code",
   "execution_count": 28,
   "metadata": {},
   "outputs": [
    {
     "data": {
      "text/plain": [
       "<sqlite3.Cursor at 0x10f6127a0>"
      ]
     },
     "execution_count": 28,
     "metadata": {},
     "output_type": "execute_result"
    }
   ],
   "source": [
    "sql_query = 'create table Students1(Rollnumber int primary key,Name Text,Age int)'\n",
    "cur.execute(sql_query)"
   ]
  },
  {
   "cell_type": "code",
   "execution_count": 29,
   "metadata": {},
   "outputs": [
    {
     "data": {
      "text/plain": [
       "<sqlite3.Cursor at 0x10f6127a0>"
      ]
     },
     "execution_count": 29,
     "metadata": {},
     "output_type": "execute_result"
    }
   ],
   "source": [
    "cur.execute('Insert into Students1 values (101, \"Aman\", 20)')"
   ]
  },
  {
   "cell_type": "code",
   "execution_count": 30,
   "metadata": {},
   "outputs": [],
   "source": [
    "database.commit()"
   ]
  },
  {
   "cell_type": "code",
   "execution_count": 31,
   "metadata": {},
   "outputs": [
    {
     "data": {
      "text/plain": [
       "<sqlite3.Cursor at 0x10f6127a0>"
      ]
     },
     "execution_count": 31,
     "metadata": {},
     "output_type": "execute_result"
    }
   ],
   "source": [
    "cur.execute('Insert into Students1 values (102, \"Aman\", 21)')"
   ]
  },
  {
   "cell_type": "code",
   "execution_count": 32,
   "metadata": {},
   "outputs": [],
   "source": [
    "database.commit()"
   ]
  },
  {
   "cell_type": "code",
   "execution_count": 33,
   "metadata": {},
   "outputs": [],
   "source": [
    "database.close()"
   ]
  },
  {
   "cell_type": "markdown",
   "metadata": {},
   "source": [
    "     **11.2 passing parameters in query**"
   ]
  },
  {
   "cell_type": "code",
   "execution_count": 34,
   "metadata": {},
   "outputs": [
    {
     "data": {
      "text/plain": [
       "<sqlite3.Connection at 0x10f4b8ab0>"
      ]
     },
     "execution_count": 34,
     "metadata": {},
     "output_type": "execute_result"
    }
   ],
   "source": [
    "import sqlite3\n",
    "database=sqlite3.connect('School.sqlite')\n",
    "database"
   ]
  },
  {
   "cell_type": "code",
   "execution_count": 35,
   "metadata": {},
   "outputs": [
    {
     "data": {
      "text/plain": [
       "<sqlite3.Cursor at 0x10f6221f0>"
      ]
     },
     "execution_count": 35,
     "metadata": {},
     "output_type": "execute_result"
    }
   ],
   "source": [
    "cur=database.cursor()\n",
    "cur"
   ]
  },
  {
   "cell_type": "code",
   "execution_count": 36,
   "metadata": {},
   "outputs": [
    {
     "data": {
      "text/plain": [
       "<sqlite3.Cursor at 0x10f6221f0>"
      ]
     },
     "execution_count": 36,
     "metadata": {},
     "output_type": "execute_result"
    }
   ],
   "source": [
    "cur.execute('Insert into Students1 values (103, \"Mohit\", 24)')"
   ]
  },
  {
   "cell_type": "code",
   "execution_count": 37,
   "metadata": {},
   "outputs": [],
   "source": [
    "database.commit()"
   ]
  },
  {
   "cell_type": "code",
   "execution_count": 40,
   "metadata": {},
   "outputs": [
    {
     "data": {
      "text/plain": [
       "<sqlite3.Cursor at 0x10f6221f0>"
      ]
     },
     "execution_count": 40,
     "metadata": {},
     "output_type": "execute_result"
    }
   ],
   "source": [
    "#method 1: add rows\n",
    "Rollnumber=104\n",
    "Name ='Nikhil'\n",
    "Age=34\n",
    "\n",
    "cur.execute(\"Insert into Students1 values(?,?,?)\",(Rollnumber,Name,Age))"
   ]
  },
  {
   "cell_type": "code",
   "execution_count": 41,
   "metadata": {},
   "outputs": [],
   "source": [
    "database.commit()"
   ]
  },
  {
   "cell_type": "code",
   "execution_count": 42,
   "metadata": {},
   "outputs": [
    {
     "data": {
      "text/plain": [
       "<sqlite3.Cursor at 0x10f6221f0>"
      ]
     },
     "execution_count": 42,
     "metadata": {},
     "output_type": "execute_result"
    }
   ],
   "source": [
    "#method 2: add rows\n",
    "values = [(205,'Nidhi',20),(106,\"Manisha\",21),(107,\"Ankush\",22)]\n",
    "cur.executemany(\"Insert into Students1 values(?,?,?)\",values)"
   ]
  },
  {
   "cell_type": "code",
   "execution_count": 43,
   "metadata": {},
   "outputs": [],
   "source": [
    "database.commit()"
   ]
  },
  {
   "cell_type": "markdown",
   "metadata": {},
   "source": [
    "     **11.3 update the database**"
   ]
  },
  {
   "cell_type": "code",
   "execution_count": 44,
   "metadata": {},
   "outputs": [
    {
     "data": {
      "text/plain": [
       "<sqlite3.Cursor at 0x10f6221f0>"
      ]
     },
     "execution_count": 44,
     "metadata": {},
     "output_type": "execute_result"
    }
   ],
   "source": [
    "cur.execute('Update Students1 set age=30')"
   ]
  },
  {
   "cell_type": "code",
   "execution_count": 45,
   "metadata": {},
   "outputs": [],
   "source": [
    "database.commit()"
   ]
  },
  {
   "cell_type": "code",
   "execution_count": 47,
   "metadata": {},
   "outputs": [
    {
     "data": {
      "text/plain": [
       "<sqlite3.Cursor at 0x10f6221f0>"
      ]
     },
     "execution_count": 47,
     "metadata": {},
     "output_type": "execute_result"
    }
   ],
   "source": [
    "cur.execute('Update Students1 set age=20 where rollnumber=102')"
   ]
  },
  {
   "cell_type": "code",
   "execution_count": 48,
   "metadata": {},
   "outputs": [],
   "source": [
    "database.commit()"
   ]
  },
  {
   "cell_type": "code",
   "execution_count": 49,
   "metadata": {},
   "outputs": [],
   "source": [
    "new_age=50\n",
    "cur.execute('Update Students1 set age=? where rollnumber=103',(new_age, ))\n",
    "database.commit()"
   ]
  },
  {
   "cell_type": "markdown",
   "metadata": {},
   "source": [
    "**Exercise 1**\n",
    "\n",
    "    A given data of 12 Employees working in an investment firm. So add the Employee Data in Employee SQLite Database of Employee_Detail Table which was created by you.\n",
    "    \n",
    "        1)employee_id=[101,102,103,104,105,106,107,108,109,110,111,112,113]\n",
    "    \n",
    "        2)name=['Aadarsh','Aarti','Siddharth','Aman','Amit','Shivansh','Vaibhav','Himanshu','Raman','Kunal','Adhira','Tanya']\n",
    "    \n",
    "        3)age=[25,27,25,24,30,26,23,26,25,26,29,24]\n",
    "    \n",
    "        4)department=['Marketing','Operations','Finance','Human Resource','Marketing','IT','Finance','IT','Operations','Marketing','Human Resource','Marketing']\n",
    "    \n",
    "        5)salary=[50000,60000,85000,75000,50000,90000,85000,90000,60000,50000,75000,50000]\n"
   ]
  },
  {
   "cell_type": "code",
   "execution_count": 56,
   "metadata": {},
   "outputs": [],
   "source": [
    "employee_id=[101,102,103,104,105,106,107,108,109,110,111,112,113]\n",
    "name=['Aadarsh','Aarti','Siddharth','Aman','Amit','Shivansh','Vaibhav','Himanshu','Raman','Kunal','Adhira','Tanya']\n",
    "age=[25,27,25,24,30,26,23,26,25,26,29,24]\n",
    "department=['Marketing','Operations','Finance','Human Resource','Marketing','IT','Finance','IT','Operations','Marketing','Human Resource','Marketing']\n",
    "salary=[50000,60000,85000,75000,50000,90000,85000,90000,60000,50000,75000,50000]"
   ]
  },
  {
   "cell_type": "code",
   "execution_count": 57,
   "metadata": {},
   "outputs": [],
   "source": [
    "l=[]\n",
    "for i in range(len(name)):\n",
    "    l.append([employee_id[i],name[i],age[i],department[i],salary[i]])    "
   ]
  },
  {
   "cell_type": "code",
   "execution_count": 58,
   "metadata": {},
   "outputs": [],
   "source": [
    "import sqlite3\n",
    "database=sqlite3.connect('Employees.sqlite')\n",
    "cur=database.cursor()\n",
    "sql_query = 'create table Employee_Detail (employee_id int primary key,name Text,Age int,department text,salary int)'\n",
    "cur.execute(sql_query)\n",
    "cur.executemany(\"Insert into Employee_Detail values(?,?,?,?,?)\",l)\n",
    "database.commit()"
   ]
  },
  {
   "cell_type": "markdown",
   "metadata": {},
   "source": [
    "**12.Fetch data**"
   ]
  },
  {
   "cell_type": "code",
   "execution_count": 63,
   "metadata": {},
   "outputs": [
    {
     "data": {
      "text/plain": [
       "<sqlite3.Connection at 0x10f4b8490>"
      ]
     },
     "execution_count": 63,
     "metadata": {},
     "output_type": "execute_result"
    }
   ],
   "source": [
    "import sqlite3\n",
    "database=sqlite3.connect('School.sqlite')\n",
    "database"
   ]
  },
  {
   "cell_type": "code",
   "execution_count": 64,
   "metadata": {},
   "outputs": [
    {
     "data": {
      "text/plain": [
       "<sqlite3.Cursor at 0x10f622810>"
      ]
     },
     "execution_count": 64,
     "metadata": {},
     "output_type": "execute_result"
    }
   ],
   "source": [
    "cur=database.cursor()\n",
    "cur"
   ]
  },
  {
   "cell_type": "markdown",
   "metadata": {},
   "source": [
    "     **12.1 method 1**"
   ]
  },
  {
   "cell_type": "code",
   "execution_count": 65,
   "metadata": {},
   "outputs": [
    {
     "data": {
      "text/plain": [
       "<sqlite3.Cursor at 0x10f622810>"
      ]
     },
     "execution_count": 65,
     "metadata": {},
     "output_type": "execute_result"
    }
   ],
   "source": [
    "cur.execute('select * from Students1')"
   ]
  },
  {
   "cell_type": "code",
   "execution_count": 66,
   "metadata": {},
   "outputs": [
    {
     "name": "stdout",
     "output_type": "stream",
     "text": [
      "(101, 'Aman', 30)\n",
      "(102, 'Aman', 20)\n",
      "(103, 'Mohit', 50)\n",
      "(104, 'Nikhil', 30)\n",
      "(205, 'Nidhi', 30)\n",
      "(106, 'Manisha', 30)\n",
      "(107, 'Ankush', 30)\n"
     ]
    }
   ],
   "source": [
    "for row in cur:\n",
    "    print(row)"
   ]
  },
  {
   "cell_type": "markdown",
   "metadata": {},
   "source": [
    "     **12.2 method 2**"
   ]
  },
  {
   "cell_type": "code",
   "execution_count": 68,
   "metadata": {},
   "outputs": [
    {
     "name": "stdout",
     "output_type": "stream",
     "text": [
      "(101, 'Aman', 30)\n",
      "(102, 'Aman', 20)\n",
      "(103, 'Mohit', 50)\n"
     ]
    }
   ],
   "source": [
    "cur.execute('select * from Students1')\n",
    "print(cur.fetchone())\n",
    "print(cur.fetchone())\n",
    "print(cur.fetchone())"
   ]
  },
  {
   "cell_type": "markdown",
   "metadata": {},
   "source": [
    "     **12.3 method 3**"
   ]
  },
  {
   "cell_type": "code",
   "execution_count": 71,
   "metadata": {},
   "outputs": [
    {
     "data": {
      "text/plain": [
       "[(101, 'Aman', 30)]"
      ]
     },
     "execution_count": 71,
     "metadata": {},
     "output_type": "execute_result"
    }
   ],
   "source": [
    "cur.execute('select * from Students1')\n",
    "print(cur.fetchmany())"
   ]
  },
  {
   "cell_type": "code",
   "execution_count": 70,
   "metadata": {},
   "outputs": [
    {
     "data": {
      "text/plain": [
       "[(101, 'Aman', 30), (102, 'Aman', 20), (103, 'Mohit', 50)]"
      ]
     },
     "execution_count": 70,
     "metadata": {},
     "output_type": "execute_result"
    }
   ],
   "source": [
    "cur.execute('select * from Students1')\n",
    "print(cur.fetchmany(3))"
   ]
  },
  {
   "cell_type": "code",
   "execution_count": 73,
   "metadata": {},
   "outputs": [
    {
     "name": "stdout",
     "output_type": "stream",
     "text": [
      "[(104, 'Nikhil', 30), (106, 'Manisha', 30), (107, 'Ankush', 30)]\n"
     ]
    }
   ],
   "source": [
    "cur.execute('select * from Students1 where rollnumber>103')\n",
    "print(cur.fetchmany(3))"
   ]
  },
  {
   "cell_type": "markdown",
   "metadata": {},
   "source": [
    "     **12.4 method 4**"
   ]
  },
  {
   "cell_type": "code",
   "execution_count": 72,
   "metadata": {},
   "outputs": [
    {
     "data": {
      "text/plain": [
       "[(101, 'Aman', 30),\n",
       " (102, 'Aman', 20),\n",
       " (103, 'Mohit', 50),\n",
       " (104, 'Nikhil', 30),\n",
       " (205, 'Nidhi', 30),\n",
       " (106, 'Manisha', 30),\n",
       " (107, 'Ankush', 30)]"
      ]
     },
     "execution_count": 72,
     "metadata": {},
     "output_type": "execute_result"
    }
   ],
   "source": [
    "cur.execute('select * from Students1')\n",
    "ans=cur.fetchall()\n",
    "ans"
   ]
  },
  {
   "cell_type": "code",
   "execution_count": 74,
   "metadata": {},
   "outputs": [
    {
     "data": {
      "text/plain": [
       "[(101, 'Aman', 30), (102, 'Aman', 20), (107, 'Ankush', 30)]"
      ]
     },
     "execution_count": 74,
     "metadata": {},
     "output_type": "execute_result"
    }
   ],
   "source": [
    "cur.execute('select * from Students1 where name like \"A%\"')\n",
    "ans=cur.fetchall()\n",
    "ans"
   ]
  },
  {
   "cell_type": "markdown",
   "metadata": {},
   "source": [
    "**Exercise 2**\n",
    "\n",
    "    Find the employee_id of employee whose is working in Finance Department in Investment firm from Employee SQLite Database.\n",
    "    Print the employee_id as integer value\n",
    "\n",
    "Output Format:\n",
    "\n",
    "    employee_id_1\n",
    "    employee_id_2\n",
    "    .  .  ."
   ]
  },
  {
   "cell_type": "code",
   "execution_count": 78,
   "metadata": {},
   "outputs": [
    {
     "name": "stdout",
     "output_type": "stream",
     "text": [
      "103\n",
      "107\n"
     ]
    }
   ],
   "source": [
    "import sqlite3\n",
    "database=sqlite3.connect('Employees.sqlite')\n",
    "cur=database.cursor()\n",
    "cur.execute('select * from Employee_Detail where department=\"Finance\"')\n",
    "ans=cur.fetchall()\n",
    "for i in ans:\n",
    "    print(i[0])"
   ]
  },
  {
   "cell_type": "markdown",
   "metadata": {},
   "source": [
    "**Exercise 3. Find Employee**\n",
    "\n",
    "    Find number of employee working in different department in an investment firm from Employee SQLite Database.\n",
    "    Print the department and number of employee\n",
    "\n",
    "Output Format:\n",
    "\n",
    "    department_1 num_employee_1\n",
    "    department_2 num_employee_2\n",
    "    department_3 num_employee_3"
   ]
  },
  {
   "cell_type": "code",
   "execution_count": 85,
   "metadata": {},
   "outputs": [
    {
     "name": "stdout",
     "output_type": "stream",
     "text": [
      "Finance 2\n",
      "Human Resource 2\n",
      "IT 2\n",
      "Marketing 4\n",
      "Operations 2\n"
     ]
    }
   ],
   "source": [
    "cur.execute('select department,count(*) from Employee_Detail group by department ')\n",
    "ans=cur.fetchall()\n",
    "ans\n",
    "for i in ans:\n",
    "    print(i[0],i[1])"
   ]
  },
  {
   "cell_type": "markdown",
   "metadata": {},
   "source": [
    "**13.SQLite with pandas**"
   ]
  },
  {
   "cell_type": "markdown",
   "metadata": {},
   "source": [
    "             **using pandas to convert database to dataframe"
   ]
  },
  {
   "cell_type": "code",
   "execution_count": 115,
   "metadata": {},
   "outputs": [],
   "source": [
    "import sqlite3\n",
    "import pandas as pd\n",
    "database=sqlite3.connect('School.sqlite')"
   ]
  },
  {
   "cell_type": "code",
   "execution_count": 116,
   "metadata": {},
   "outputs": [
    {
     "data": {
      "text/html": [
       "<div>\n",
       "<style scoped>\n",
       "    .dataframe tbody tr th:only-of-type {\n",
       "        vertical-align: middle;\n",
       "    }\n",
       "\n",
       "    .dataframe tbody tr th {\n",
       "        vertical-align: top;\n",
       "    }\n",
       "\n",
       "    .dataframe thead th {\n",
       "        text-align: right;\n",
       "    }\n",
       "</style>\n",
       "<table border=\"1\" class=\"dataframe\">\n",
       "  <thead>\n",
       "    <tr style=\"text-align: right;\">\n",
       "      <th></th>\n",
       "      <th>Rollnumber</th>\n",
       "      <th>Name</th>\n",
       "      <th>Age</th>\n",
       "    </tr>\n",
       "  </thead>\n",
       "  <tbody>\n",
       "    <tr>\n",
       "      <th>0</th>\n",
       "      <td>101</td>\n",
       "      <td>Aman</td>\n",
       "      <td>30</td>\n",
       "    </tr>\n",
       "    <tr>\n",
       "      <th>1</th>\n",
       "      <td>102</td>\n",
       "      <td>Aman</td>\n",
       "      <td>20</td>\n",
       "    </tr>\n",
       "    <tr>\n",
       "      <th>2</th>\n",
       "      <td>103</td>\n",
       "      <td>Mohit</td>\n",
       "      <td>50</td>\n",
       "    </tr>\n",
       "    <tr>\n",
       "      <th>3</th>\n",
       "      <td>104</td>\n",
       "      <td>Nikhil</td>\n",
       "      <td>30</td>\n",
       "    </tr>\n",
       "    <tr>\n",
       "      <th>4</th>\n",
       "      <td>205</td>\n",
       "      <td>Nidhi</td>\n",
       "      <td>30</td>\n",
       "    </tr>\n",
       "    <tr>\n",
       "      <th>5</th>\n",
       "      <td>106</td>\n",
       "      <td>Manisha</td>\n",
       "      <td>30</td>\n",
       "    </tr>\n",
       "    <tr>\n",
       "      <th>6</th>\n",
       "      <td>107</td>\n",
       "      <td>Ankush</td>\n",
       "      <td>30</td>\n",
       "    </tr>\n",
       "  </tbody>\n",
       "</table>\n",
       "</div>"
      ],
      "text/plain": [
       "   Rollnumber     Name  Age\n",
       "0         101     Aman   30\n",
       "1         102     Aman   20\n",
       "2         103    Mohit   50\n",
       "3         104   Nikhil   30\n",
       "4         205    Nidhi   30\n",
       "5         106  Manisha   30\n",
       "6         107   Ankush   30"
      ]
     },
     "execution_count": 116,
     "metadata": {},
     "output_type": "execute_result"
    }
   ],
   "source": [
    "data=pd.read_sql_query('select * from students1',database)\n",
    "data"
   ]
  },
  {
   "cell_type": "code",
   "execution_count": 89,
   "metadata": {},
   "outputs": [
    {
     "data": {
      "text/plain": [
       "0     True\n",
       "1    False\n",
       "2    False\n",
       "3     True\n",
       "4     True\n",
       "5     True\n",
       "6     True\n",
       "Name: Age, dtype: bool"
      ]
     },
     "execution_count": 89,
     "metadata": {},
     "output_type": "execute_result"
    }
   ],
   "source": [
    "data['Age']==30"
   ]
  },
  {
   "cell_type": "markdown",
   "metadata": {},
   "source": [
    "             **using pandas to convert dataframe to database**"
   ]
  },
  {
   "cell_type": "code",
   "execution_count": 92,
   "metadata": {},
   "outputs": [
    {
     "data": {
      "text/html": [
       "<div>\n",
       "<style scoped>\n",
       "    .dataframe tbody tr th:only-of-type {\n",
       "        vertical-align: middle;\n",
       "    }\n",
       "\n",
       "    .dataframe tbody tr th {\n",
       "        vertical-align: top;\n",
       "    }\n",
       "\n",
       "    .dataframe thead th {\n",
       "        text-align: right;\n",
       "    }\n",
       "</style>\n",
       "<table border=\"1\" class=\"dataframe\">\n",
       "  <thead>\n",
       "    <tr style=\"text-align: right;\">\n",
       "      <th></th>\n",
       "      <th>ID</th>\n",
       "      <th>Name</th>\n",
       "      <th>Course</th>\n",
       "      <th>Salary</th>\n",
       "    </tr>\n",
       "  </thead>\n",
       "  <tbody>\n",
       "    <tr>\n",
       "      <th>0</th>\n",
       "      <td>201</td>\n",
       "      <td>Aman</td>\n",
       "      <td>English</td>\n",
       "      <td>20000</td>\n",
       "    </tr>\n",
       "    <tr>\n",
       "      <th>1</th>\n",
       "      <td>202</td>\n",
       "      <td>Komal</td>\n",
       "      <td>Maths</td>\n",
       "      <td>22000</td>\n",
       "    </tr>\n",
       "    <tr>\n",
       "      <th>2</th>\n",
       "      <td>203</td>\n",
       "      <td>Mahesh</td>\n",
       "      <td>Science</td>\n",
       "      <td>23000</td>\n",
       "    </tr>\n",
       "  </tbody>\n",
       "</table>\n",
       "</div>"
      ],
      "text/plain": [
       "    ID    Name   Course  Salary\n",
       "0  201    Aman  English   20000\n",
       "1  202   Komal    Maths   22000\n",
       "2  203  Mahesh  Science   23000"
      ]
     },
     "execution_count": 92,
     "metadata": {},
     "output_type": "execute_result"
    }
   ],
   "source": [
    "data=pd.DataFrame([[201,\"Aman\",\"English\",20000],[202,\"Komal\",'Maths',22000],[203,\"Mahesh\",\"Science\",23000]], \n",
    "                  columns=[\"ID\",\"Name\",\"Course\",\"Salary\"])\n",
    "data"
   ]
  },
  {
   "cell_type": "code",
   "execution_count": 94,
   "metadata": {},
   "outputs": [],
   "source": [
    "data.to_sql(\"Faculties\",database)"
   ]
  },
  {
   "cell_type": "code",
   "execution_count": null,
   "metadata": {},
   "outputs": [],
   "source": [
    "#data.to_sql('Student',database,if_exists='replace')"
   ]
  },
  {
   "cell_type": "markdown",
   "metadata": {},
   "source": [
    "**Exercise 3.Count Genre**\n",
    "\n",
    "    IMDB.sqlite' database contains all details of movies and has three tables with name IMDB, genre and earning.\n",
    "    Find the count of each genre present in IMDB movie dataset?\n",
    "    Print the Genre and number of movies present in that genre.\n",
    "    Note: Ignore the empty value present in genre.\n",
    "\n",
    "Output Format:\n",
    "\n",
    "    genre_1 num_movie_1\n",
    "    genre_2 num_movie_2"
   ]
  },
  {
   "cell_type": "code",
   "execution_count": 117,
   "metadata": {},
   "outputs": [],
   "source": [
    "import sqlite3\n",
    "import pandas as pd"
   ]
  },
  {
   "cell_type": "code",
   "execution_count": 149,
   "metadata": {},
   "outputs": [],
   "source": [
    "database=sqlite3.connect('IMDB.sqlite')\n",
    "data=pd.read_sql_query('select genre,count(*) as number from genre group by genre',database)\n",
    "m=len(data['genre'])             "
   ]
  },
  {
   "cell_type": "code",
   "execution_count": 157,
   "metadata": {},
   "outputs": [
    {
     "name": "stdout",
     "output_type": "stream",
     "text": [
      "Action 33\n",
      "Adventure 43\n",
      "Animation 13\n",
      "Biography 21\n",
      "Comedy 31\n",
      "Crime 11\n",
      "Drama 77\n",
      "Family 3\n",
      "Fantasy 7\n",
      "History 6\n",
      "Horror 2\n",
      "Music 3\n",
      "Musical 1\n",
      "Mystery 7\n",
      "Romance 13\n",
      "Sci-Fi 18\n",
      "Sport 3\n",
      "Thriller 14\n",
      "War 2\n",
      "Western 2\n"
     ]
    }
   ],
   "source": [
    "for i in range(1,m):\n",
    "    if data['genre'][i]==' ':\n",
    "        continue\n",
    "    else:\n",
    "        print(data['genre'][i],data['number'][i])"
   ]
  },
  {
   "cell_type": "markdown",
   "metadata": {},
   "source": [
    "**Exercise 4.IMDB Movie**\n",
    "\n",
    "    IMDB.sqlite' database contains all details of movies and has three tables with name IMDB, genre and earning.\n",
    "    Find the highest-grossing movie (i.e domestic earning + worldwide earning) in IMDB database.\n",
    "    Print the rating of that movie.\n",
    "\n",
    "Output Format:\n",
    "    \n",
    "    rating"
   ]
  },
  {
   "cell_type": "code",
   "execution_count": 179,
   "metadata": {},
   "outputs": [
    {
     "name": "stdout",
     "output_type": "stream",
     "text": [
      "8.1\n"
     ]
    }
   ],
   "source": [
    "import sqlite3\n",
    "import pandas as pd\n",
    "import numpy as np\n",
    "database=sqlite3.connect('IMDB.sqlite')\n",
    "data=pd.read_sql_query('select earning.Movie_id,IMDB.Rating,Domestic,Worldwide from earning inner join IMDB on earning.Movie_id=IMDB.Movie_id ',database)\n",
    "data['Grossing']=data['Domestic']+data['Worldwide']\n",
    "data.head()\n",
    "data.to_sql('earning',database,if_exists='replace')\n",
    "data=pd.read_sql_query('select Rating,Grossing from earning order by Grossing desc',database)\n",
    "print(data['Rating'][0])"
   ]
  },
  {
   "cell_type": "code",
   "execution_count": null,
   "metadata": {},
   "outputs": [],
   "source": []
  }
 ],
 "metadata": {
  "kernelspec": {
   "display_name": "Python 3",
   "language": "python",
   "name": "python3"
  },
  "language_info": {
   "codemirror_mode": {
    "name": "ipython",
    "version": 3
   },
   "file_extension": ".py",
   "mimetype": "text/x-python",
   "name": "python",
   "nbconvert_exporter": "python",
   "pygments_lexer": "ipython3",
   "version": "3.7.3"
  }
 },
 "nbformat": 4,
 "nbformat_minor": 2
}
